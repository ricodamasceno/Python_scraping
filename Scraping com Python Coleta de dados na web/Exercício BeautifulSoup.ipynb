{
 "cells": [
  {
   "cell_type": "code",
   "execution_count": 1,
   "id": "2536665f",
   "metadata": {},
   "outputs": [
    {
     "data": {
      "text/plain": [
       "\n",
       "<html>\n",
       "<body>\n",
       "<div id=\"container-a\">\n",
       "<h1>Título A</h1>\n",
       "<h2 class=\"ref-a\">Sub título A</h2>\n",
       "<p>Texto de conteúdo A</p>\n",
       "<div id=\"container-a-1\">\n",
       "<h1>Título A.1</h1>\n",
       "<h2 class=\"ref-a\">Sub título A.1</h2>\n",
       "<p>Texto de conteúdo A.1</p>\n",
       "</div>\n",
       "</div>\n",
       "</body>\n",
       "</html>"
      ]
     },
     "execution_count": 1,
     "metadata": {},
     "output_type": "execute_result"
    }
   ],
   "source": [
    "from bs4 import BeautifulSoup\n",
    "\n",
    "html = \"\"\"\n",
    "    <html>\n",
    "        <body>\n",
    "            <div id=\"container-a\">\n",
    "                <h1>Título A</h1>\n",
    "                <h2 class=\"ref-a\">Sub título A</h2>\n",
    "                <p>Texto de conteúdo A</p>\n",
    "                <div id=\"container-a-1\">\n",
    "                    <h1>Título A.1</h1>\n",
    "                    <h2 class=\"ref-a\">Sub título A.1</h2>\n",
    "                    <p>Texto de conteúdo A.1</p>\n",
    "                </div>\n",
    "            </div>\n",
    "        </body>\n",
    "    </html>\n",
    "\"\"\"\n",
    "soup = BeautifulSoup(html, 'html.parser')\n",
    "soup"
   ]
  },
  {
   "cell_type": "code",
   "execution_count": 6,
   "id": "a32627ab",
   "metadata": {},
   "outputs": [
    {
     "data": {
      "text/plain": [
       "'Título A || Sub título A || Texto de conteúdo A || Título A.1 || Sub título A.1 || Texto de conteúdo A.1'"
      ]
     },
     "execution_count": 6,
     "metadata": {},
     "output_type": "execute_result"
    }
   ],
   "source": [
    "soup.getText(separator = ' || ',  strip=True)"
   ]
  },
  {
   "cell_type": "code",
   "execution_count": 7,
   "id": "3fc51266",
   "metadata": {},
   "outputs": [],
   "source": [
    "from bs4 import BeautifulSoup\n",
    "\n",
    "html = \"\"\"\n",
    "    <html>\n",
    "        <body>\n",
    "            <div id=\"container-a\">\n",
    "                <h1>Título A</h1>\n",
    "                <h2 class=\"ref-a\">Sub título A</h2>\n",
    "                <p>Texto de conteúdo A</p>\n",
    "            </div>\n",
    "            <div id=\"container-b\">\n",
    "                <h1>Título B</h1>\n",
    "                <h2 class=\"ref-b\">Sub título B</h2>\n",
    "                <p>Texto de conteúdo B</p>\n",
    "            </div>\n",
    "        </body>\n",
    "    </html>\n",
    "\"\"\"\n",
    "soup = BeautifulSoup(html, 'html.parser')"
   ]
  },
  {
   "cell_type": "code",
   "execution_count": 10,
   "id": "6850f563",
   "metadata": {},
   "outputs": [
    {
     "data": {
      "text/plain": [
       "<h2 class=\"ref-b\">Sub título B</h2>"
      ]
     },
     "execution_count": 10,
     "metadata": {},
     "output_type": "execute_result"
    }
   ],
   "source": [
    "soup.find('h2', {'class': 'ref-b'})"
   ]
  },
  {
   "cell_type": "code",
   "execution_count": 11,
   "id": "8c69f1c3",
   "metadata": {},
   "outputs": [
    {
     "data": {
      "text/plain": [
       "'Texto de conteúdo B'"
      ]
     },
     "execution_count": 11,
     "metadata": {},
     "output_type": "execute_result"
    }
   ],
   "source": [
    "soup.find('div',{'id': 'container-b'}).p.get_text()"
   ]
  },
  {
   "cell_type": "code",
   "execution_count": 12,
   "id": "872a2ba3",
   "metadata": {},
   "outputs": [
    {
     "data": {
      "text/plain": [
       "[<h1>Título A</h1>, <h1>Título B</h1>]"
      ]
     },
     "execution_count": 12,
     "metadata": {},
     "output_type": "execute_result"
    }
   ],
   "source": [
    "soup.findAll('h1')"
   ]
  },
  {
   "cell_type": "code",
   "execution_count": 13,
   "id": "f343d552",
   "metadata": {},
   "outputs": [],
   "source": [
    "from bs4 import BeautifulSoup\n",
    "\n",
    "html = \"\"\"\n",
    "    <html>\n",
    "        <body>\n",
    "            <div id=\"container-a\">\n",
    "                <h1>Curso de Web Scraping</h1>\n",
    "                <h3>Treinamento Alura</h3>\n",
    "                <p class=\"main descr\">Curso para ensinar técnicas de coleta de dados na web.</p>\n",
    "            </div>\n",
    "            <div id=\"tools\">\n",
    "                <p class=\"main lib-a\">BeautifulSoup</p>\n",
    "                <p class=\"libs\">findAll()</p>\n",
    "                <p class=\"libs\">getText()</p>\n",
    "                <p class=\"main lib-b\">urllib.request</p>\n",
    "                <p class=\"libs\">urlopen()</p>\n",
    "                <p class=\"main lib-c\">pandas</p>\n",
    "                <p class=\"libs\">DataFrame()</p>\n",
    "            </div>\n",
    "        </body>\n",
    "    </html>\n",
    "\"\"\"\n",
    "soup = BeautifulSoup(html, 'html.parser')"
   ]
  },
  {
   "cell_type": "code",
   "execution_count": 14,
   "id": "f4bef4ab",
   "metadata": {},
   "outputs": [
    {
     "name": "stdout",
     "output_type": "stream",
     "text": [
      "BeautifulSoup\n",
      "urllib.request\n",
      "pandas\n"
     ]
    }
   ],
   "source": [
    "items = soup.find('div', {'id': 'tools'}).findAll('p', {'class': 'main'})\n",
    "for item in items:\n",
    "    print(item.getText())"
   ]
  },
  {
   "cell_type": "code",
   "execution_count": 16,
   "id": "32ac5f25",
   "metadata": {},
   "outputs": [
    {
     "name": "stdout",
     "output_type": "stream",
     "text": [
      "BeautifulSoup\n",
      "urllib.request\n",
      "pandas\n"
     ]
    }
   ],
   "source": [
    "items = soup.find('div', {'id': 'tools'})('p', {'class': 'main'})\n",
    "for item in items:\n",
    "    print(item.getText())"
   ]
  },
  {
   "cell_type": "code",
   "execution_count": 17,
   "id": "425c1732",
   "metadata": {},
   "outputs": [
    {
     "name": "stdout",
     "output_type": "stream",
     "text": [
      "BeautifulSoup\n",
      "urllib.request\n",
      "pandas\n"
     ]
    }
   ],
   "source": [
    "items = soup.find('div', {'id': 'tools'}).findAll('p', {'class': ['lib-a', 'lib-b', 'lib-c']})\n",
    "for item in items:\n",
    "    print(item.getText())"
   ]
  },
  {
   "cell_type": "code",
   "execution_count": 18,
   "id": "7632142c",
   "metadata": {},
   "outputs": [],
   "source": [
    "from bs4 import BeautifulSoup\n",
    "\n",
    "html = \"\"\"\n",
    "    <html>\n",
    "        <body>\n",
    "            <ul>\n",
    "                <li>Abertura</li>\n",
    "                <li>10%</li>\n",
    "                <li>11%</li>\n",
    "                <li>10.5%</li>\n",
    "                <li>9%</li>\n",
    "                <li>Fechamento</li>\n",
    "            </ul>\n",
    "        </body>\n",
    "    </html>\n",
    "\"\"\"\n",
    "soup = BeautifulSoup(html, 'html.parser')"
   ]
  },
  {
   "cell_type": "code",
   "execution_count": 22,
   "id": "ba14bb50",
   "metadata": {},
   "outputs": [
    {
     "data": {
      "text/plain": [
       "[<li>10%</li>, <li>11%</li>, <li>10.5%</li>, <li>9%</li>]"
      ]
     },
     "execution_count": 22,
     "metadata": {},
     "output_type": "execute_result"
    }
   ],
   "source": [
    "valores = soup.ul('li')\n",
    "valores.pop(0)\n",
    "valores.pop()\n",
    "valores"
   ]
  },
  {
   "cell_type": "code",
   "execution_count": 23,
   "id": "9ecdac3f",
   "metadata": {},
   "outputs": [],
   "source": [
    "from bs4 import BeautifulSoup\n",
    "\n",
    "html = \"\"\"\n",
    "    <html>\n",
    "        <body>\n",
    "            <h1>Fotos</h1>\n",
    "            <div>\n",
    "                <img alt=\"Foto\" src=\"https://caelum-online-public.s3.amazonaws.com/1381-scraping/01/img-cars/mercedes-benz-slr/mercedes-benz-slr-2925433__340.jpg\">\n",
    "                <img alt=\"Foto\" src=\"https://caelum-online-public.s3.amazonaws.com/1381-scraping/01/img-cars/vwbeetle/vwbeetle-836065__340.jpg\">\n",
    "                <img alt=\"Foto\" src=\"https://caelum-online-public.s3.amazonaws.com/1381-scraping/01/img-cars/porsche-911-gt2rs/porsche-911-gt2rs-3076518__340.jpg\">\n",
    "            </div>\n",
    "        </body>\n",
    "    </html>\n",
    "\"\"\"\n",
    "soup = BeautifulSoup(html, 'html.parser')"
   ]
  },
  {
   "cell_type": "code",
   "execution_count": 27,
   "id": "524a3ab0",
   "metadata": {},
   "outputs": [
    {
     "name": "stdout",
     "output_type": "stream",
     "text": [
      "https://caelum-online-public.s3.amazonaws.com/1381-scraping/01/img-cars/mercedes-benz-slr/mercedes-benz-slr-2925433__340.jpg\n",
      "https://caelum-online-public.s3.amazonaws.com/1381-scraping/01/img-cars/vwbeetle/vwbeetle-836065__340.jpg\n",
      "https://caelum-online-public.s3.amazonaws.com/1381-scraping/01/img-cars/porsche-911-gt2rs/porsche-911-gt2rs-3076518__340.jpg\n"
     ]
    }
   ],
   "source": [
    "for image in soup('img'):\n",
    "    print(image.get('src'))"
   ]
  },
  {
   "cell_type": "code",
   "execution_count": 28,
   "id": "731dda03",
   "metadata": {},
   "outputs": [],
   "source": [
    "from bs4 import BeautifulSoup\n",
    "\n",
    "html = \"\"\"\n",
    "    <html>\n",
    "        <body>\n",
    "            <h1>Busca por veículos</h1>\n",
    "            <div>\n",
    "                <p id=\"info-search\">Encontramos 1325 anúncios</p>\n",
    "                <span class=\"info-pages\">20 anúncios por página</span>\n",
    "            </div>\n",
    "        </body>\n",
    "    </html>\n",
    "\"\"\"\n",
    "soup = BeautifulSoup(html, 'html.parser')"
   ]
  },
  {
   "cell_type": "code",
   "execution_count": 29,
   "id": "6a8833fc",
   "metadata": {},
   "outputs": [
    {
     "data": {
      "text/plain": [
       "17"
      ]
     },
     "execution_count": 29,
     "metadata": {},
     "output_type": "execute_result"
    }
   ],
   "source": [
    "import math\n",
    "math.ceil(16.12)"
   ]
  },
  {
   "cell_type": "code",
   "execution_count": 34,
   "id": "a5436ff8",
   "metadata": {},
   "outputs": [
    {
     "data": {
      "text/plain": [
       "67"
      ]
     },
     "execution_count": 34,
     "metadata": {},
     "output_type": "execute_result"
    }
   ],
   "source": [
    "math.ceil(int(soup.p.get_text().split()[1]) / int(soup.span.get_text().split()[0]))"
   ]
  },
  {
   "cell_type": "code",
   "execution_count": null,
   "id": "6449525a",
   "metadata": {},
   "outputs": [],
   "source": []
  }
 ],
 "metadata": {
  "kernelspec": {
   "display_name": "Python 3",
   "language": "python",
   "name": "python3"
  },
  "language_info": {
   "codemirror_mode": {
    "name": "ipython",
    "version": 3
   },
   "file_extension": ".py",
   "mimetype": "text/x-python",
   "name": "python",
   "nbconvert_exporter": "python",
   "pygments_lexer": "ipython3",
   "version": "3.8.8"
  }
 },
 "nbformat": 4,
 "nbformat_minor": 5
}
